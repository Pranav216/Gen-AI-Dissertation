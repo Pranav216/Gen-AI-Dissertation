{
  "nbformat": 4,
  "nbformat_minor": 0,
  "metadata": {
    "colab": {
      "provenance": []
    },
    "kernelspec": {
      "name": "python3",
      "display_name": "Python 3"
    },
    "language_info": {
      "name": "python"
    }
  },
  "cells": [
    {
      "cell_type": "code",
      "execution_count": null,
      "metadata": {
        "collapsed": true,
        "id": "wRFlQCjg5hUb"
      },
      "outputs": [],
      "source": [
        "!pip install -U peft transformers diffusers"
      ]
    },
    {
      "cell_type": "code",
      "source": [
        "from diffusers import DiffusionPipeline\n",
        "import torch\n"
      ],
      "metadata": {
        "collapsed": true,
        "id": "3dk0E0yM5oUS"
      },
      "execution_count": null,
      "outputs": []
    },
    {
      "cell_type": "code",
      "source": [
        "# Load Stable Diffusion XL Base1.0\n",
        "pipe = DiffusionPipeline.from_pretrained(\"stabilityai/stable-diffusion-xl-base-1.0\",\n",
        "                                         torch_dtype=torch.float16,variant=\"fp16\", use_safetensors=True).to(\"cuda\")\n"
      ],
      "metadata": {
        "collapsed": true,
        "id": "XEZIsWG251fC"
      },
      "execution_count": null,
      "outputs": []
    },
    {
      "cell_type": "code",
      "source": [
        "# Optional CPU offloading to save some GPU Memory\n",
        "pipe.enable_model_cpu_offload()\n",
        "\n",
        "identifier = \"a photo of a rotating chair\"\n",
        "prompt = f\"{identifier} in front of the TajMahal\"\n"
      ],
      "metadata": {
        "id": "K6Ix2gww57UT"
      },
      "execution_count": null,
      "outputs": []
    },
    {
      "cell_type": "code",
      "source": [
        "# Invoke pipeline to generate image\n",
        "image = pipe(\n",
        "    prompt = prompt,\n",
        "    num_inference_steps=50,\n",
        "    height=1024,\n",
        "    width=1024,\n",
        "    # guidance_scale=7.0,\n",
        ").images[0]\n"
      ],
      "metadata": {
        "id": "kLxemo-k9glj"
      },
      "execution_count": null,
      "outputs": []
    },
    {
      "cell_type": "code",
      "source": [
        "# Display image\n",
        "image\n",
        "# Save Image\n",
        "image.save(f\"tajmahal_greenchair{prompt}.jpg\")"
      ],
      "metadata": {
        "id": "uG1vXkaZ9joz"
      },
      "execution_count": null,
      "outputs": []
    }
  ]
}